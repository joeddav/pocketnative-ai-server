{
 "cells": [
  {
   "cell_type": "code",
   "execution_count": 3,
   "metadata": {},
   "outputs": [],
   "source": [
    "import guidance\n",
    "import os"
   ]
  },
  {
   "cell_type": "code",
   "execution_count": 8,
   "metadata": {},
   "outputs": [],
   "source": [
    "model = guidance.models.AzureOpenAIChat(\n",
    "    model=\"gpt-4\",\n",
    "    azure_endpoint=os.environ[\"AZURE_OPENAI_ENDPOINT\"],\n",
    "    api_key=os.environ[\"AZURE_OPENAI_API_KEY\"],\n",
    ")"
   ]
  },
  {
   "cell_type": "code",
   "execution_count": 1,
   "metadata": {},
   "outputs": [],
   "source": [
    "import sys\n",
    "sys.path.insert(0, \"../src\")"
   ]
  },
  {
   "cell_type": "code",
   "execution_count": 15,
   "metadata": {},
   "outputs": [],
   "source": [
    "from chatgpt import AzureChatGPT\n",
    "chatgpt = AzureChatGPT()"
   ]
  },
  {
   "cell_type": "code",
   "execution_count": 16,
   "metadata": {},
   "outputs": [],
   "source": [
    "chatgpt.user(\"Hi, what's up?\")"
   ]
  },
  {
   "cell_type": "code",
   "execution_count": 17,
   "metadata": {},
   "outputs": [
    {
     "data": {
      "text/plain": [
       "[{'role': 'system', 'content': 'You are a helpful assistant.'},\n",
       " {'role': 'user', 'content': \"Hi, what's up?\"}]"
      ]
     },
     "execution_count": 17,
     "metadata": {},
     "output_type": "execute_result"
    }
   ],
   "source": [
    "chatgpt.messages"
   ]
  },
  {
   "cell_type": "code",
   "execution_count": 18,
   "metadata": {},
   "outputs": [
    {
     "data": {
      "text/plain": [
       "\"Hello! I'm here to help you with anything you need. How can I assist you today?\""
      ]
     },
     "execution_count": 18,
     "metadata": {},
     "output_type": "execute_result"
    }
   ],
   "source": [
    "res = chatgpt.call(stream=False)\n",
    "res"
   ]
  },
  {
   "cell_type": "code",
   "execution_count": 9,
   "metadata": {},
   "outputs": [
    {
     "ename": "NameError",
     "evalue": "name 'chatgpt' is not defined",
     "output_type": "error",
     "traceback": [
      "\u001b[0;31m---------------------------------------------------------------------------\u001b[0m",
      "\u001b[0;31mNameError\u001b[0m                                 Traceback (most recent call last)",
      "\u001b[1;32m/Users/joeddav/code/nass/ai-server/notebooks/playground.ipynb Cell 8\u001b[0m line \u001b[0;36m1\n\u001b[0;32m----> <a href='vscode-notebook-cell:/Users/joeddav/code/nass/ai-server/notebooks/playground.ipynb#W6sZmlsZQ%3D%3D?line=0'>1</a>\u001b[0m res \u001b[39m=\u001b[39m chatgpt\u001b[39m.\u001b[39mcall(stream\u001b[39m=\u001b[39m\u001b[39mTrue\u001b[39;00m)\n\u001b[1;32m      <a href='vscode-notebook-cell:/Users/joeddav/code/nass/ai-server/notebooks/playground.ipynb#W6sZmlsZQ%3D%3D?line=2'>3</a>\u001b[0m \u001b[39mfor\u001b[39;00m chunk \u001b[39min\u001b[39;00m res:\n\u001b[1;32m      <a href='vscode-notebook-cell:/Users/joeddav/code/nass/ai-server/notebooks/playground.ipynb#W6sZmlsZQ%3D%3D?line=3'>4</a>\u001b[0m     \u001b[39mprint\u001b[39m(\u001b[39m\"\u001b[39m\u001b[39mhere\u001b[39m\u001b[39m\"\u001b[39m)\n",
      "\u001b[0;31mNameError\u001b[0m: name 'chatgpt' is not defined"
     ]
    }
   ],
   "source": [
    "res = chatgpt.call(stream=True)\n",
    "\n",
    "for chunk in res:\n",
    "    print(\"here\")\n",
    "    print(chunk, end=\"\\n\")"
   ]
  },
  {
   "cell_type": "markdown",
   "metadata": {},
   "source": [
    "---"
   ]
  },
  {
   "cell_type": "code",
   "execution_count": 1,
   "metadata": {},
   "outputs": [],
   "source": [
    "import sys\n",
    "sys.path.insert(0, \"..\")"
   ]
  },
  {
   "cell_type": "code",
   "execution_count": 2,
   "metadata": {},
   "outputs": [
    {
     "name": "stderr",
     "output_type": "stream",
     "text": [
      "/Users/joeddav/Library/Caches/pypoetry/virtualenvs/pocketnative-ai-server-P4dA4cdz-py3.11/lib/python3.11/site-packages/tqdm/auto.py:21: TqdmWarning: IProgress not found. Please update jupyter and ipywidgets. See https://ipywidgets.readthedocs.io/en/stable/user_install.html\n",
      "  from .autonotebook import tqdm as notebook_tqdm\n",
      "None of PyTorch, TensorFlow >= 2.0, or Flax have been found. Models won't be available and only tokenizers, configuration and file/data utilities can be used.\n"
     ]
    }
   ],
   "source": [
    "from src.chat import StatefulAssistant"
   ]
  },
  {
   "cell_type": "code",
   "execution_count": 3,
   "metadata": {},
   "outputs": [],
   "source": [
    "assistant = StatefulAssistant(\n",
    "    name=\"Andrea\",\n",
    "    instructions=[\n",
    "        \"Always answer concisely.\"\n",
    "    ]\n",
    ")"
   ]
  },
  {
   "cell_type": "code",
   "execution_count": 4,
   "metadata": {},
   "outputs": [
    {
     "name": "stdout",
     "output_type": "stream",
     "text": [
      "MESSAGES\n",
      "[{'role': 'system', 'content': 'You are a personal assistant named Andrea.\\n\\nPlease follow the instructions below:\\n\\n-Always answer concisely.'}, {'role': 'user', 'content': 'Hi Andrea, how are you?'}]\n",
      "\n",
      "PARAMS\n",
      "{'model': 'gpt-4', 'messages': [{'role': 'system', 'content': 'You are a personal assistant named Andrea.\\n\\nPlease follow the instructions below:\\n\\n-Always answer concisely.'}, {'role': 'user', 'content': 'Hi Andrea, how are you?'}], 'stream': True}\n",
      "_make_completion_stream\n",
      "{\"id\":\"chatcmpl-8oznI8fYiMkTmrSFgY2z3xOyIJ3ye\",\"choices\":[{\"delta\":{\"content\":null,\"function_call\":null,\"role\":\"assistant\",\"tool_calls\":null},\"finish_reason\":null,\"index\":0,\"logprobs\":null}],\"created\":1707164628,\"model\":\"gpt-4\",\"object\":\"chat.completion.chunk\",\"system_fingerprint\":\"fp_68a7d165bf\"}\n"
     ]
    }
   ],
   "source": [
    "response = assistant.chat([\n",
    "    {\"role\": \"user\", \"content\": \"Hi Andrea, how are you?\"}\n",
    "])\n",
    "\n",
    "for chunk in response:\n",
    "    print(chunk)"
   ]
  },
  {
   "cell_type": "code",
   "execution_count": 5,
   "metadata": {},
   "outputs": [],
   "source": [
    "from src.chatgpt import AzureChatGPT"
   ]
  },
  {
   "cell_type": "code",
   "execution_count": 23,
   "metadata": {},
   "outputs": [],
   "source": [
    "from openai import AzureOpenAI\n",
    "client = AzureOpenAI(\n",
    "    azure_deployment=\"gpt-4\",\n",
    "    api_version=\"2023-05-15\"\n",
    ")"
   ]
  },
  {
   "cell_type": "code",
   "execution_count": 24,
   "metadata": {},
   "outputs": [],
   "source": [
    "res = client.chat.completions.create(\n",
    "    messages=[\n",
    "        {\"role\": \"user\", \"content\": \"hi\"}\n",
    "    ],\n",
    "    model=\"gpt-4\",\n",
    "    stream=True\n",
    ")"
   ]
  },
  {
   "cell_type": "code",
   "execution_count": 26,
   "metadata": {},
   "outputs": [
    {
     "name": "stdout",
     "output_type": "stream",
     "text": [
      "ChatCompletionChunk(id='chatcmpl-8ozteurG9RnlrQ4hq9qBon7HeCbt9', choices=[Choice(delta=ChoiceDelta(content=None, function_call=None, role='assistant', tool_calls=None), finish_reason=None, index=0, logprobs=None)], created=1707165022, model='gpt-4', object='chat.completion.chunk', system_fingerprint='fp_68a7d165bf')\n",
      "ChatCompletionChunk(id='chatcmpl-8ozteurG9RnlrQ4hq9qBon7HeCbt9', choices=[Choice(delta=ChoiceDelta(content='Hello', function_call=None, role=None, tool_calls=None), finish_reason=None, index=0, logprobs=None)], created=1707165022, model='gpt-4', object='chat.completion.chunk', system_fingerprint='fp_68a7d165bf')\n",
      "ChatCompletionChunk(id='chatcmpl-8ozteurG9RnlrQ4hq9qBon7HeCbt9', choices=[Choice(delta=ChoiceDelta(content='!', function_call=None, role=None, tool_calls=None), finish_reason=None, index=0, logprobs=None)], created=1707165022, model='gpt-4', object='chat.completion.chunk', system_fingerprint='fp_68a7d165bf')\n",
      "ChatCompletionChunk(id='chatcmpl-8ozteurG9RnlrQ4hq9qBon7HeCbt9', choices=[Choice(delta=ChoiceDelta(content=' How', function_call=None, role=None, tool_calls=None), finish_reason=None, index=0, logprobs=None)], created=1707165022, model='gpt-4', object='chat.completion.chunk', system_fingerprint='fp_68a7d165bf')\n",
      "ChatCompletionChunk(id='chatcmpl-8ozteurG9RnlrQ4hq9qBon7HeCbt9', choices=[Choice(delta=ChoiceDelta(content=' can', function_call=None, role=None, tool_calls=None), finish_reason=None, index=0, logprobs=None)], created=1707165022, model='gpt-4', object='chat.completion.chunk', system_fingerprint='fp_68a7d165bf')\n",
      "ChatCompletionChunk(id='chatcmpl-8ozteurG9RnlrQ4hq9qBon7HeCbt9', choices=[Choice(delta=ChoiceDelta(content=' I', function_call=None, role=None, tool_calls=None), finish_reason=None, index=0, logprobs=None)], created=1707165022, model='gpt-4', object='chat.completion.chunk', system_fingerprint='fp_68a7d165bf')\n",
      "ChatCompletionChunk(id='chatcmpl-8ozteurG9RnlrQ4hq9qBon7HeCbt9', choices=[Choice(delta=ChoiceDelta(content=' assist', function_call=None, role=None, tool_calls=None), finish_reason=None, index=0, logprobs=None)], created=1707165022, model='gpt-4', object='chat.completion.chunk', system_fingerprint='fp_68a7d165bf')\n",
      "ChatCompletionChunk(id='chatcmpl-8ozteurG9RnlrQ4hq9qBon7HeCbt9', choices=[Choice(delta=ChoiceDelta(content=' you', function_call=None, role=None, tool_calls=None), finish_reason=None, index=0, logprobs=None)], created=1707165022, model='gpt-4', object='chat.completion.chunk', system_fingerprint='fp_68a7d165bf')\n",
      "ChatCompletionChunk(id='chatcmpl-8ozteurG9RnlrQ4hq9qBon7HeCbt9', choices=[Choice(delta=ChoiceDelta(content=' today', function_call=None, role=None, tool_calls=None), finish_reason=None, index=0, logprobs=None)], created=1707165022, model='gpt-4', object='chat.completion.chunk', system_fingerprint='fp_68a7d165bf')\n",
      "ChatCompletionChunk(id='chatcmpl-8ozteurG9RnlrQ4hq9qBon7HeCbt9', choices=[Choice(delta=ChoiceDelta(content='?', function_call=None, role=None, tool_calls=None), finish_reason=None, index=0, logprobs=None)], created=1707165022, model='gpt-4', object='chat.completion.chunk', system_fingerprint='fp_68a7d165bf')\n",
      "ChatCompletionChunk(id='chatcmpl-8ozteurG9RnlrQ4hq9qBon7HeCbt9', choices=[Choice(delta=ChoiceDelta(content=None, function_call=None, role=None, tool_calls=None), finish_reason='stop', index=0, logprobs=None)], created=1707165022, model='gpt-4', object='chat.completion.chunk', system_fingerprint='fp_68a7d165bf')\n"
     ]
    }
   ],
   "source": [
    "for chunk in res:\n",
    "    print(chunk)"
   ]
  },
  {
   "cell_type": "code",
   "execution_count": 32,
   "metadata": {},
   "outputs": [
    {
     "data": {
      "text/plain": [
       "'stop'"
      ]
     },
     "execution_count": 32,
     "metadata": {},
     "output_type": "execute_result"
    }
   ],
   "source": [
    "chunk.choices[0].finish_reason"
   ]
  },
  {
   "cell_type": "code",
   "execution_count": 12,
   "metadata": {},
   "outputs": [
    {
     "name": "stdout",
     "output_type": "stream",
     "text": [
      "MESSAGES\n",
      "[{'role': 'system', 'content': 'You are a helpful assistant.'}, {'role': 'user', 'content': 'test'}, {'role': 'assistant', 'content': \"It seems like you're checking if I'm responsive. I'm here to help! How can I assist you today?\"}, {'role': 'user', 'content': 'hi there'}]\n",
      "\n",
      "PARAMS\n",
      "{'model': 'gpt-4', 'messages': [{'role': 'system', 'content': 'You are a helpful assistant.'}, {'role': 'user', 'content': 'test'}, {'role': 'assistant', 'content': \"It seems like you're checking if I'm responsive. I'm here to help! How can I assist you today?\"}, {'role': 'user', 'content': 'hi there'}], 'stream': True}\n",
      "_make_completion_stream\n",
      "{\"id\":\"chatcmpl-8ozpZE698rl0B7OEVhVdDP8JFMSlM\",\"choices\":[{\"delta\":{\"content\":null,\"function_call\":null,\"role\":\"assistant\",\"tool_calls\":null},\"finish_reason\":null,\"index\":0,\"logprobs\":null}],\"created\":1707164769,\"model\":\"gpt-4\",\"object\":\"chat.completion.chunk\",\"system_fingerprint\":\"fp_68a7d165bf\"}\n"
     ]
    }
   ],
   "source": [
    "gpt.user(\"hi there\")\n",
    "response = gpt.call(stream=True)\n",
    "\n",
    "for res in response:\n",
    "    print(res)"
   ]
  },
  {
   "cell_type": "code",
   "execution_count": null,
   "metadata": {},
   "outputs": [],
   "source": []
  }
 ],
 "metadata": {
  "kernelspec": {
   "display_name": "ai-server",
   "language": "python",
   "name": "ai-server"
  },
  "language_info": {
   "codemirror_mode": {
    "name": "ipython",
    "version": 3
   },
   "file_extension": ".py",
   "mimetype": "text/x-python",
   "name": "python",
   "nbconvert_exporter": "python",
   "pygments_lexer": "ipython3",
   "version": "3.11.5"
  }
 },
 "nbformat": 4,
 "nbformat_minor": 2
}
